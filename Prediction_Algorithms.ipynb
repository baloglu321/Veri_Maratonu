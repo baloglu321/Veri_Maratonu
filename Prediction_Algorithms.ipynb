{
 "cells": [
  {
   "cell_type": "markdown",
   "id": "ed10339b",
   "metadata": {},
   "source": [
    "# Basit Doğrusal Regresyon (Simple Lineer Regression)"
   ]
  },
  {
   "cell_type": "code",
   "execution_count": 1,
   "id": "a92bb1cf",
   "metadata": {},
   "outputs": [],
   "source": [
    "import pandas as pd\n",
    "import numpy as np\n",
    "import matplotlib.pyplot as mp\n",
    "import seaborn as sbn\n",
    "from sklearn.model_selection import train_test_split\n",
    "from sklearn.preprocessing import PolynomialFeatures\n",
    "from sklearn.linear_model import LinearRegression\n",
    "from sklearn.tree import DecisionTreeRegressor\n",
    "from sklearn.metrics import r2_score"
   ]
  },
  {
   "cell_type": "code",
   "execution_count": 3,
   "id": "60b6e85f",
   "metadata": {},
   "outputs": [],
   "source": [
    "data_SLR=pd.read_csv(\"dogrusal_regresyon_veriseti_20220209.csv\",sep=\";\")\n",
    "x=data_SLR.deneyim.values.reshape(-1,1)\n",
    "y=data_SLR.maas.values.reshape(-1,1)"
   ]
  },
  {
   "cell_type": "code",
   "execution_count": 4,
   "id": "2e4ba9c1",
   "metadata": {},
   "outputs": [
    {
     "data": {
      "text/plain": [
       "Text(0.5, 1.0, 'Deneyim Maaş İlişkisi')"
      ]
     },
     "execution_count": 4,
     "metadata": {},
     "output_type": "execute_result"
    },
    {
     "data": {
      "image/png": "[encoded data removed]",
      "text/plain": [
       "<Figure size 432x288 with 1 Axes>"
      ]
     },
     "metadata": {
      "needs_background": "light"
     },
     "output_type": "display_data"
    }
   ],
   "source": [
    "mp.scatter(data_SLR.deneyim,data_SLR.maas,color=\"blue\")\n",
    "mp.xlabel(\"deneyim\")\n",
    "mp.ylabel(\"maas\")\n",
    "mp.title(\"Deneyim Maaş İlişkisi\")"
   ]
  },
  {
   "cell_type": "code",
   "execution_count": 39,
   "id": "d8d562e0",
   "metadata": {},
   "outputs": [],
   "source": [
    "lr=LinearRegression()\n",
    "lr.fit(x,y)\n",
    "tahmin=lr.predict(x)"
   ]
  },
  {
   "cell_type": "code",
   "execution_count": 40,
   "id": "b367aa67",
   "metadata": {},
   "outputs": [
    {
     "name": "stdout",
     "output_type": "stream",
     "text": [
      "Y eksenini kestiği nokta : [[1663.89519747]]\n",
      "Y ekseni intercept'i : [1663.89519747]\n",
      "Doğrunun Eğimi (slope) :[[1138.34819698]]\n"
     ]
    }
   ],
   "source": [
    "#hesaplanan doğrusallığın y eksenini kestiği nokta\n",
    "y_eksen=np.array([0]).reshape(-1,1)\n",
    "b0=lr.predict(y_eksen)\n",
    "print(f\"Y eksenini kestiği nokta : {b0}\")\n",
    "#intercept i\n",
    "b0_=lr.intercept_\n",
    "print(f\"Y ekseni intercept'i : {b0_}\")\n",
    "# Eğimi (slope)\n",
    "b0_s=lr.coef_\n",
    "print(f\"Doğrunun Eğimi (slope) :{b0_s}\")"
   ]
  },
  {
   "cell_type": "code",
   "execution_count": 41,
   "id": "88789ddb",
   "metadata": {},
   "outputs": [
    {
     "data": {
      "text/plain": [
       "Text(0.5, 1.0, 'Deneyim Maaş İlişkisi')"
      ]
     },
     "execution_count": 41,
     "metadata": {},
     "output_type": "execute_result"
    },
    {
     "data": {
      "image/png": "[encoded data removed]",
      "text/plain": [
       "<Figure size 432x288 with 1 Axes>"
      ]
     },
     "metadata": {
      "needs_background": "light"
     },
     "output_type": "display_data"
    }
   ],
   "source": [
    "mp.figure()\n",
    "mp.scatter(data_SLR.deneyim,data_SLR.maas,color=\"blue\")\n",
    "mp.plot(x,tahmin,\"r^--\")\n",
    "mp.xlabel(\"deneyim\")\n",
    "mp.ylabel(\"maas\")\n",
    "mp.title(\"Deneyim Maaş İlişkisi\")"
   ]
  },
  {
   "cell_type": "code",
   "execution_count": 42,
   "id": "23080e8f",
   "metadata": {},
   "outputs": [],
   "source": [
    "gerçek_deger=data_SLR.iloc[:,1]\n",
    "gerçek_deger=pd.DataFrame(gerçek_deger)\n",
    "tahmin=pd.DataFrame(tahmin)\n",
    "sonuc=pd.concat([gerçek_deger,tahmin],axis=1)\n",
    "sonuc.columns=[\"Gerçek_Değerler\",\"Tahmin_Edilen_Değerler\"]"
   ]
  },
  {
   "cell_type": "code",
   "execution_count": 43,
   "id": "cb7e245f",
   "metadata": {},
   "outputs": [
    {
     "data": {
      "text/html": [
       "<div>\n",
       "<style scoped>\n",
       "    .dataframe tbody tr th:only-of-type {\n",
       "        vertical-align: middle;\n",
       "    }\n",
       "\n",
       "    .dataframe tbody tr th {\n",
       "        vertical-align: top;\n",
       "    }\n",
       "\n",
       "    .dataframe thead th {\n",
       "        text-align: right;\n",
       "    }\n",
       "</style>\n",
       "<table border=\"1\" class=\"dataframe\">\n",
       "  <thead>\n",
       "    <tr style=\"text-align: right;\">\n",
       "      <th></th>\n",
       "      <th>Gerçek_Değerler</th>\n",
       "      <th>Tahmin_Edilen_Değerler</th>\n",
       "    </tr>\n",
       "  </thead>\n",
       "  <tbody>\n",
       "    <tr>\n",
       "      <th>1</th>\n",
       "      <td>2250</td>\n",
       "      <td>1663.895197</td>\n",
       "    </tr>\n",
       "    <tr>\n",
       "      <th>0</th>\n",
       "      <td>2500</td>\n",
       "      <td>2233.069296</td>\n",
       "    </tr>\n",
       "    <tr>\n",
       "      <th>2</th>\n",
       "      <td>2750</td>\n",
       "      <td>2802.243394</td>\n",
       "    </tr>\n",
       "    <tr>\n",
       "      <th>9</th>\n",
       "      <td>3500</td>\n",
       "      <td>3940.591591</td>\n",
       "    </tr>\n",
       "    <tr>\n",
       "      <th>8</th>\n",
       "      <td>6000</td>\n",
       "      <td>5078.939788</td>\n",
       "    </tr>\n",
       "    <tr>\n",
       "      <th>5</th>\n",
       "      <td>6900</td>\n",
       "      <td>6217.287985</td>\n",
       "    </tr>\n",
       "    <tr>\n",
       "      <th>13</th>\n",
       "      <td>7500</td>\n",
       "      <td>8493.984379</td>\n",
       "    </tr>\n",
       "    <tr>\n",
       "      <th>3</th>\n",
       "      <td>8000</td>\n",
       "      <td>7355.636182</td>\n",
       "    </tr>\n",
       "    <tr>\n",
       "      <th>7</th>\n",
       "      <td>8500</td>\n",
       "      <td>9632.332576</td>\n",
       "    </tr>\n",
       "    <tr>\n",
       "      <th>4</th>\n",
       "      <td>9000</td>\n",
       "      <td>10770.680773</td>\n",
       "    </tr>\n",
       "    <tr>\n",
       "      <th>11</th>\n",
       "      <td>13000</td>\n",
       "      <td>13047.377167</td>\n",
       "    </tr>\n",
       "    <tr>\n",
       "      <th>10</th>\n",
       "      <td>15000</td>\n",
       "      <td>15324.073561</td>\n",
       "    </tr>\n",
       "    <tr>\n",
       "      <th>12</th>\n",
       "      <td>18000</td>\n",
       "      <td>17600.769955</td>\n",
       "    </tr>\n",
       "    <tr>\n",
       "      <th>6</th>\n",
       "      <td>20000</td>\n",
       "      <td>18739.118152</td>\n",
       "    </tr>\n",
       "  </tbody>\n",
       "</table>\n",
       "</div>"
      ],
      "text/plain": [
       "    Gerçek_Değerler  Tahmin_Edilen_Değerler\n",
       "1              2250             1663.895197\n",
       "0              2500             2233.069296\n",
       "2              2750             2802.243394\n",
       "9              3500             3940.591591\n",
       "8              6000             5078.939788\n",
       "5              6900             6217.287985\n",
       "13             7500             8493.984379\n",
       "3              8000             7355.636182\n",
       "7              8500             9632.332576\n",
       "4              9000            10770.680773\n",
       "11            13000            13047.377167\n",
       "10            15000            15324.073561\n",
       "12            18000            17600.769955\n",
       "6             20000            18739.118152"
      ]
     },
     "execution_count": 43,
     "metadata": {},
     "output_type": "execute_result"
    }
   ],
   "source": [
    "sonuc=sonuc.sort_values(\"Gerçek_Değerler\")\n",
    "sonuc"
   ]
  },
  {
   "cell_type": "code",
   "execution_count": 44,
   "id": "867527d8",
   "metadata": {},
   "outputs": [
    {
     "data": {
      "image/png": "[encoded data removed]",
      "text/plain": [
       "<Figure size 432x288 with 1 Axes>"
      ]
     },
     "metadata": {
      "needs_background": "light"
     },
     "output_type": "display_data"
    }
   ],
   "source": [
    "mp.figure()\n",
    "mp.plot(sonuc.Gerçek_Değerler,sonuc.Tahmin_Edilen_Değerler,\"ro--\")\n",
    "mp.xlabel(\"Gerçek Değerler\")\n",
    "mp.ylabel(\"Tahmin Edilen Değerler\")\n",
    "mp.grid(True)"
   ]
  },
  {
   "cell_type": "markdown",
   "id": "0924374c",
   "metadata": {},
   "source": [
    "# Çoklu Doğrusal Regresyon(Multiple Lineer Regression)"
   ]
  },
  {
   "cell_type": "code",
   "execution_count": 45,
   "id": "18c1beb9",
   "metadata": {},
   "outputs": [],
   "source": [
    "data_MLR=pd.read_csv(\"coklu_dogrusal_regresyon_veriseti_20220209.csv\",sep=\";\")"
   ]
  },
  {
   "cell_type": "code",
   "execution_count": 46,
   "id": "e4ea6ee4",
   "metadata": {},
   "outputs": [
    {
     "data": {
      "text/html": [
       "<div>\n",
       "<style scoped>\n",
       "    .dataframe tbody tr th:only-of-type {\n",
       "        vertical-align: middle;\n",
       "    }\n",
       "\n",
       "    .dataframe tbody tr th {\n",
       "        vertical-align: top;\n",
       "    }\n",
       "\n",
       "    .dataframe thead th {\n",
       "        text-align: right;\n",
       "    }\n",
       "</style>\n",
       "<table border=\"1\" class=\"dataframe\">\n",
       "  <thead>\n",
       "    <tr style=\"text-align: right;\">\n",
       "      <th></th>\n",
       "      <th>deneyim</th>\n",
       "      <th>maas</th>\n",
       "      <th>yas</th>\n",
       "    </tr>\n",
       "  </thead>\n",
       "  <tbody>\n",
       "    <tr>\n",
       "      <th>0</th>\n",
       "      <td>0.5</td>\n",
       "      <td>2500</td>\n",
       "      <td>22</td>\n",
       "    </tr>\n",
       "    <tr>\n",
       "      <th>1</th>\n",
       "      <td>0.0</td>\n",
       "      <td>2250</td>\n",
       "      <td>21</td>\n",
       "    </tr>\n",
       "    <tr>\n",
       "      <th>2</th>\n",
       "      <td>1.0</td>\n",
       "      <td>2750</td>\n",
       "      <td>23</td>\n",
       "    </tr>\n",
       "    <tr>\n",
       "      <th>3</th>\n",
       "      <td>5.0</td>\n",
       "      <td>8000</td>\n",
       "      <td>25</td>\n",
       "    </tr>\n",
       "    <tr>\n",
       "      <th>4</th>\n",
       "      <td>8.0</td>\n",
       "      <td>9000</td>\n",
       "      <td>28</td>\n",
       "    </tr>\n",
       "    <tr>\n",
       "      <th>5</th>\n",
       "      <td>4.0</td>\n",
       "      <td>6900</td>\n",
       "      <td>23</td>\n",
       "    </tr>\n",
       "    <tr>\n",
       "      <th>6</th>\n",
       "      <td>15.0</td>\n",
       "      <td>20000</td>\n",
       "      <td>35</td>\n",
       "    </tr>\n",
       "    <tr>\n",
       "      <th>7</th>\n",
       "      <td>7.0</td>\n",
       "      <td>8500</td>\n",
       "      <td>29</td>\n",
       "    </tr>\n",
       "    <tr>\n",
       "      <th>8</th>\n",
       "      <td>3.0</td>\n",
       "      <td>6000</td>\n",
       "      <td>22</td>\n",
       "    </tr>\n",
       "    <tr>\n",
       "      <th>9</th>\n",
       "      <td>2.0</td>\n",
       "      <td>3500</td>\n",
       "      <td>23</td>\n",
       "    </tr>\n",
       "    <tr>\n",
       "      <th>10</th>\n",
       "      <td>12.0</td>\n",
       "      <td>15000</td>\n",
       "      <td>32</td>\n",
       "    </tr>\n",
       "    <tr>\n",
       "      <th>11</th>\n",
       "      <td>10.0</td>\n",
       "      <td>13000</td>\n",
       "      <td>30</td>\n",
       "    </tr>\n",
       "    <tr>\n",
       "      <th>12</th>\n",
       "      <td>14.0</td>\n",
       "      <td>18000</td>\n",
       "      <td>34</td>\n",
       "    </tr>\n",
       "    <tr>\n",
       "      <th>13</th>\n",
       "      <td>6.0</td>\n",
       "      <td>7500</td>\n",
       "      <td>27</td>\n",
       "    </tr>\n",
       "  </tbody>\n",
       "</table>\n",
       "</div>"
      ],
      "text/plain": [
       "    deneyim   maas  yas\n",
       "0       0.5   2500   22\n",
       "1       0.0   2250   21\n",
       "2       1.0   2750   23\n",
       "3       5.0   8000   25\n",
       "4       8.0   9000   28\n",
       "5       4.0   6900   23\n",
       "6      15.0  20000   35\n",
       "7       7.0   8500   29\n",
       "8       3.0   6000   22\n",
       "9       2.0   3500   23\n",
       "10     12.0  15000   32\n",
       "11     10.0  13000   30\n",
       "12     14.0  18000   34\n",
       "13      6.0   7500   27"
      ]
     },
     "execution_count": 46,
     "metadata": {},
     "output_type": "execute_result"
    }
   ],
   "source": [
    "data_MLR"
   ]
  },
  {
   "cell_type": "code",
   "execution_count": 47,
   "id": "c50d2b7d",
   "metadata": {},
   "outputs": [
    {
     "data": {
      "text/plain": [
       "<seaborn.axisgrid.PairGrid at 0x24d6aa0fc10>"
      ]
     },
     "execution_count": 47,
     "metadata": {},
     "output_type": "execute_result"
    },
    {
     "data": {
      "image/png": "[encoded data removed]",
      "text/plain": [
       "<Figure size 540x540 with 12 Axes>"
      ]
     },
     "metadata": {
      "needs_background": "light"
     },
     "output_type": "display_data"
    }
   ],
   "source": [
    "sbn.pairplot(data_MLR)"
   ]
  },
  {
   "cell_type": "code",
   "execution_count": 48,
   "id": "3206adc4",
   "metadata": {},
   "outputs": [
    {
     "name": "stdout",
     "output_type": "stream",
     "text": [
      "<class 'pandas.core.frame.DataFrame'>\n",
      "RangeIndex: 14 entries, 0 to 13\n",
      "Data columns (total 3 columns):\n",
      " #   Column   Non-Null Count  Dtype  \n",
      "---  ------   --------------  -----  \n",
      " 0   deneyim  14 non-null     float64\n",
      " 1   maas     14 non-null     int64  \n",
      " 2   yas      14 non-null     int64  \n",
      "dtypes: float64(1), int64(2)\n",
      "memory usage: 464.0 bytes\n"
     ]
    }
   ],
   "source": [
    "data_MLR.info()"
   ]
  },
  {
   "cell_type": "code",
   "execution_count": 49,
   "id": "47cf3448",
   "metadata": {},
   "outputs": [
    {
     "data": {
      "text/html": [
       "<div>\n",
       "<style scoped>\n",
       "    .dataframe tbody tr th:only-of-type {\n",
       "        vertical-align: middle;\n",
       "    }\n",
       "\n",
       "    .dataframe tbody tr th {\n",
       "        vertical-align: top;\n",
       "    }\n",
       "\n",
       "    .dataframe thead th {\n",
       "        text-align: right;\n",
       "    }\n",
       "</style>\n",
       "<table border=\"1\" class=\"dataframe\">\n",
       "  <thead>\n",
       "    <tr style=\"text-align: right;\">\n",
       "      <th></th>\n",
       "      <th>deneyim</th>\n",
       "      <th>maas</th>\n",
       "      <th>yas</th>\n",
       "    </tr>\n",
       "  </thead>\n",
       "  <tbody>\n",
       "    <tr>\n",
       "      <th>deneyim</th>\n",
       "      <td>1.000000</td>\n",
       "      <td>0.988700</td>\n",
       "      <td>0.981464</td>\n",
       "    </tr>\n",
       "    <tr>\n",
       "      <th>maas</th>\n",
       "      <td>0.988700</td>\n",
       "      <td>1.000000</td>\n",
       "      <td>0.957791</td>\n",
       "    </tr>\n",
       "    <tr>\n",
       "      <th>yas</th>\n",
       "      <td>0.981464</td>\n",
       "      <td>0.957791</td>\n",
       "      <td>1.000000</td>\n",
       "    </tr>\n",
       "  </tbody>\n",
       "</table>\n",
       "</div>"
      ],
      "text/plain": [
       "          deneyim      maas       yas\n",
       "deneyim  1.000000  0.988700  0.981464\n",
       "maas     0.988700  1.000000  0.957791\n",
       "yas      0.981464  0.957791  1.000000"
      ]
     },
     "execution_count": 49,
     "metadata": {},
     "output_type": "execute_result"
    }
   ],
   "source": [
    "data_MLR.corr()"
   ]
  },
  {
   "cell_type": "code",
   "execution_count": 50,
   "id": "3b9d8c3f",
   "metadata": {},
   "outputs": [],
   "source": [
    "x_mlr=data_MLR.iloc[:,[0,2]].values\n",
    "y_mlr=data_MLR.iloc[:,1].values\n",
    "y_mlr=y_mlr.reshape(-1,1)\n",
    "\n"
   ]
  },
  {
   "cell_type": "code",
   "execution_count": 51,
   "id": "e0268ba6",
   "metadata": {},
   "outputs": [],
   "source": [
    "mlr=LinearRegression()\n",
    "mlr.fit(x_mlr,y_mlr)\n",
    "tahmin_mlr=mlr.predict(x_mlr)"
   ]
  },
  {
   "cell_type": "code",
   "execution_count": 52,
   "id": "c2fc33d9",
   "metadata": {},
   "outputs": [],
   "source": [
    "y_mlr=pd.DataFrame(y_mlr)\n",
    "tahmin_mlr=pd.DataFrame(tahmin_mlr)\n",
    "sonuc_mlr=pd.concat([y_mlr,tahmin_mlr],axis=1)\n",
    "sonuc_mlr.columns=[\"Gerçek_Değerler\",\"Tahmin_Edilen_Değerler\"]"
   ]
  },
  {
   "cell_type": "code",
   "execution_count": 53,
   "id": "25e66b3d",
   "metadata": {},
   "outputs": [
    {
     "data": {
      "text/html": [
       "<div>\n",
       "<style scoped>\n",
       "    .dataframe tbody tr th:only-of-type {\n",
       "        vertical-align: middle;\n",
       "    }\n",
       "\n",
       "    .dataframe tbody tr th {\n",
       "        vertical-align: top;\n",
       "    }\n",
       "\n",
       "    .dataframe thead th {\n",
       "        text-align: right;\n",
       "    }\n",
       "</style>\n",
       "<table border=\"1\" class=\"dataframe\">\n",
       "  <thead>\n",
       "    <tr style=\"text-align: right;\">\n",
       "      <th></th>\n",
       "      <th>Gerçek_Değerler</th>\n",
       "      <th>Tahmin_Edilen_Değerler</th>\n",
       "    </tr>\n",
       "  </thead>\n",
       "  <tbody>\n",
       "    <tr>\n",
       "      <th>1</th>\n",
       "      <td>2250</td>\n",
       "      <td>1625.461561</td>\n",
       "    </tr>\n",
       "    <tr>\n",
       "      <th>0</th>\n",
       "      <td>2500</td>\n",
       "      <td>1971.489735</td>\n",
       "    </tr>\n",
       "    <tr>\n",
       "      <th>2</th>\n",
       "      <td>2750</td>\n",
       "      <td>2317.517909</td>\n",
       "    </tr>\n",
       "    <tr>\n",
       "      <th>9</th>\n",
       "      <td>3500</td>\n",
       "      <td>3843.018630</td>\n",
       "    </tr>\n",
       "    <tr>\n",
       "      <th>8</th>\n",
       "      <td>6000</td>\n",
       "      <td>5785.241536</td>\n",
       "    </tr>\n",
       "    <tr>\n",
       "      <th>5</th>\n",
       "      <td>6900</td>\n",
       "      <td>6894.020071</td>\n",
       "    </tr>\n",
       "    <tr>\n",
       "      <th>13</th>\n",
       "      <td>7500</td>\n",
       "      <td>8278.132767</td>\n",
       "    </tr>\n",
       "    <tr>\n",
       "      <th>3</th>\n",
       "      <td>8000</td>\n",
       "      <td>7586.076419</td>\n",
       "    </tr>\n",
       "    <tr>\n",
       "      <th>7</th>\n",
       "      <td>8500</td>\n",
       "      <td>8970.189115</td>\n",
       "    </tr>\n",
       "    <tr>\n",
       "      <th>4</th>\n",
       "      <td>9000</td>\n",
       "      <td>10912.412021</td>\n",
       "    </tr>\n",
       "    <tr>\n",
       "      <th>11</th>\n",
       "      <td>13000</td>\n",
       "      <td>13129.969090</td>\n",
       "    </tr>\n",
       "    <tr>\n",
       "      <th>10</th>\n",
       "      <td>15000</td>\n",
       "      <td>15347.526159</td>\n",
       "    </tr>\n",
       "    <tr>\n",
       "      <th>12</th>\n",
       "      <td>18000</td>\n",
       "      <td>17565.083227</td>\n",
       "    </tr>\n",
       "    <tr>\n",
       "      <th>6</th>\n",
       "      <td>20000</td>\n",
       "      <td>18673.861761</td>\n",
       "    </tr>\n",
       "  </tbody>\n",
       "</table>\n",
       "</div>"
      ],
      "text/plain": [
       "    Gerçek_Değerler  Tahmin_Edilen_Değerler\n",
       "1              2250             1625.461561\n",
       "0              2500             1971.489735\n",
       "2              2750             2317.517909\n",
       "9              3500             3843.018630\n",
       "8              6000             5785.241536\n",
       "5              6900             6894.020071\n",
       "13             7500             8278.132767\n",
       "3              8000             7586.076419\n",
       "7              8500             8970.189115\n",
       "4              9000            10912.412021\n",
       "11            13000            13129.969090\n",
       "10            15000            15347.526159\n",
       "12            18000            17565.083227\n",
       "6             20000            18673.861761"
      ]
     },
     "execution_count": 53,
     "metadata": {},
     "output_type": "execute_result"
    }
   ],
   "source": [
    "sonuc_mlr=sonuc_mlr.sort_values(\"Gerçek_Değerler\")\n",
    "sonuc_mlr"
   ]
  },
  {
   "cell_type": "code",
   "execution_count": 54,
   "id": "0f65343a",
   "metadata": {},
   "outputs": [
    {
     "data": {
      "text/plain": [
       "<matplotlib.legend.Legend at 0x24d6b512850>"
      ]
     },
     "execution_count": 54,
     "metadata": {},
     "output_type": "execute_result"
    },
    {
     "data": {
      "image/png": "[encoded data removed]",
      "text/plain": [
       "<Figure size 432x288 with 1 Axes>"
      ]
     },
     "metadata": {
      "needs_background": "light"
     },
     "output_type": "display_data"
    }
   ],
   "source": [
    "mp.figure()\n",
    "mp.plot(sonuc.Gerçek_Değerler,sonuc.Tahmin_Edilen_Değerler,\"b^-\",label=\"Doğrusal Regresyon\")\n",
    "mp.plot(sonuc_mlr.Gerçek_Değerler,sonuc_mlr.Tahmin_Edilen_Değerler,\"ro--\",label=\"Çoklu Doğrusal Regresyon\")\n",
    "mp.xlabel(\"Gerçek Değerler\")\n",
    "mp.ylabel(\"Tahmin Edilen Değerler\")\n",
    "mp.grid(True)\n",
    "mp.legend()"
   ]
  },
  {
   "cell_type": "markdown",
   "id": "6be79449",
   "metadata": {},
   "source": [
    "# Polinom Regresyon (Polinomial Regression)"
   ]
  },
  {
   "cell_type": "code",
   "execution_count": 55,
   "id": "3963d663",
   "metadata": {},
   "outputs": [],
   "source": [
    "data_pr=pd.read_csv(\"polinomsal_regresyon_veriseti_20220209.csv\",sep=\";\")"
   ]
  },
  {
   "cell_type": "code",
   "execution_count": 56,
   "id": "13fe29db",
   "metadata": {},
   "outputs": [
    {
     "data": {
      "text/html": [
       "<div>\n",
       "<style scoped>\n",
       "    .dataframe tbody tr th:only-of-type {\n",
       "        vertical-align: middle;\n",
       "    }\n",
       "\n",
       "    .dataframe tbody tr th {\n",
       "        vertical-align: top;\n",
       "    }\n",
       "\n",
       "    .dataframe thead th {\n",
       "        text-align: right;\n",
       "    }\n",
       "</style>\n",
       "<table border=\"1\" class=\"dataframe\">\n",
       "  <thead>\n",
       "    <tr style=\"text-align: right;\">\n",
       "      <th></th>\n",
       "      <th>araba_fiyat</th>\n",
       "      <th>araba_max_hiz</th>\n",
       "    </tr>\n",
       "  </thead>\n",
       "  <tbody>\n",
       "    <tr>\n",
       "      <th>0</th>\n",
       "      <td>60</td>\n",
       "      <td>180</td>\n",
       "    </tr>\n",
       "    <tr>\n",
       "      <th>1</th>\n",
       "      <td>70</td>\n",
       "      <td>180</td>\n",
       "    </tr>\n",
       "    <tr>\n",
       "      <th>2</th>\n",
       "      <td>80</td>\n",
       "      <td>200</td>\n",
       "    </tr>\n",
       "    <tr>\n",
       "      <th>3</th>\n",
       "      <td>100</td>\n",
       "      <td>200</td>\n",
       "    </tr>\n",
       "    <tr>\n",
       "      <th>4</th>\n",
       "      <td>120</td>\n",
       "      <td>200</td>\n",
       "    </tr>\n",
       "    <tr>\n",
       "      <th>5</th>\n",
       "      <td>150</td>\n",
       "      <td>220</td>\n",
       "    </tr>\n",
       "    <tr>\n",
       "      <th>6</th>\n",
       "      <td>200</td>\n",
       "      <td>240</td>\n",
       "    </tr>\n",
       "    <tr>\n",
       "      <th>7</th>\n",
       "      <td>250</td>\n",
       "      <td>240</td>\n",
       "    </tr>\n",
       "    <tr>\n",
       "      <th>8</th>\n",
       "      <td>300</td>\n",
       "      <td>300</td>\n",
       "    </tr>\n",
       "    <tr>\n",
       "      <th>9</th>\n",
       "      <td>400</td>\n",
       "      <td>350</td>\n",
       "    </tr>\n",
       "    <tr>\n",
       "      <th>10</th>\n",
       "      <td>500</td>\n",
       "      <td>350</td>\n",
       "    </tr>\n",
       "    <tr>\n",
       "      <th>11</th>\n",
       "      <td>750</td>\n",
       "      <td>360</td>\n",
       "    </tr>\n",
       "    <tr>\n",
       "      <th>12</th>\n",
       "      <td>1000</td>\n",
       "      <td>365</td>\n",
       "    </tr>\n",
       "    <tr>\n",
       "      <th>13</th>\n",
       "      <td>2000</td>\n",
       "      <td>365</td>\n",
       "    </tr>\n",
       "    <tr>\n",
       "      <th>14</th>\n",
       "      <td>3000</td>\n",
       "      <td>365</td>\n",
       "    </tr>\n",
       "  </tbody>\n",
       "</table>\n",
       "</div>"
      ],
      "text/plain": [
       "    araba_fiyat  araba_max_hiz\n",
       "0            60            180\n",
       "1            70            180\n",
       "2            80            200\n",
       "3           100            200\n",
       "4           120            200\n",
       "5           150            220\n",
       "6           200            240\n",
       "7           250            240\n",
       "8           300            300\n",
       "9           400            350\n",
       "10          500            350\n",
       "11          750            360\n",
       "12         1000            365\n",
       "13         2000            365\n",
       "14         3000            365"
      ]
     },
     "execution_count": 56,
     "metadata": {},
     "output_type": "execute_result"
    }
   ],
   "source": [
    "data_pr"
   ]
  },
  {
   "cell_type": "code",
   "execution_count": 57,
   "id": "464e3c1a",
   "metadata": {},
   "outputs": [
    {
     "data": {
      "text/html": [
       "<div>\n",
       "<style scoped>\n",
       "    .dataframe tbody tr th:only-of-type {\n",
       "        vertical-align: middle;\n",
       "    }\n",
       "\n",
       "    .dataframe tbody tr th {\n",
       "        vertical-align: top;\n",
       "    }\n",
       "\n",
       "    .dataframe thead th {\n",
       "        text-align: right;\n",
       "    }\n",
       "</style>\n",
       "<table border=\"1\" class=\"dataframe\">\n",
       "  <thead>\n",
       "    <tr style=\"text-align: right;\">\n",
       "      <th></th>\n",
       "      <th>araba_fiyat</th>\n",
       "      <th>araba_max_hiz</th>\n",
       "    </tr>\n",
       "  </thead>\n",
       "  <tbody>\n",
       "    <tr>\n",
       "      <th>araba_fiyat</th>\n",
       "      <td>1.000000</td>\n",
       "      <td>0.688899</td>\n",
       "    </tr>\n",
       "    <tr>\n",
       "      <th>araba_max_hiz</th>\n",
       "      <td>0.688899</td>\n",
       "      <td>1.000000</td>\n",
       "    </tr>\n",
       "  </tbody>\n",
       "</table>\n",
       "</div>"
      ],
      "text/plain": [
       "               araba_fiyat  araba_max_hiz\n",
       "araba_fiyat       1.000000       0.688899\n",
       "araba_max_hiz     0.688899       1.000000"
      ]
     },
     "execution_count": 57,
     "metadata": {},
     "output_type": "execute_result"
    }
   ],
   "source": [
    "data_pr.corr()"
   ]
  },
  {
   "cell_type": "code",
   "execution_count": 58,
   "id": "be45b70c",
   "metadata": {},
   "outputs": [
    {
     "data": {
      "image/png": "[encoded data removed]",
      "text/plain": [
       "<Figure size 432x288 with 1 Axes>"
      ]
     },
     "metadata": {
      "needs_background": "light"
     },
     "output_type": "display_data"
    }
   ],
   "source": [
    "mp.figure()\n",
    "mp.plot(data_pr.araba_fiyat,data_pr.araba_max_hiz)\n",
    "mp.xlabel(\"Araba Fiyatları(bin $)\")\n",
    "mp.ylabel(\"Araba Maksimum hızı (km/s)\")\n",
    "mp.grid(True)"
   ]
  },
  {
   "cell_type": "code",
   "execution_count": 59,
   "id": "2b4dcac9",
   "metadata": {},
   "outputs": [],
   "source": [
    "x_pr=data_pr.araba_fiyat.values.reshape(-1,1)\n",
    "y_pr=data_pr.araba_max_hiz.values.reshape(-1,1)"
   ]
  },
  {
   "cell_type": "code",
   "execution_count": 60,
   "id": "14090bc9",
   "metadata": {},
   "outputs": [],
   "source": [
    "pr=PolynomialFeatures(degree=3)\n",
    "pr_4=PolynomialFeatures(degree=4)\n",
    "x_poly=pr.fit_transform(x_pr)\n",
    "x_poly_4=pr_4.fit_transform(x_pr)\n",
    "plr=LinearRegression()\n",
    "plr_4=LinearRegression()\n",
    "plr.fit(x_poly,y_pr)\n",
    "plr_4.fit(x_poly_4,y_pr)\n",
    "tahmin_pr=plr.predict(x_poly)\n",
    "tahmin_pr_4=plr_4.predict(x_poly_4)"
   ]
  },
  {
   "cell_type": "code",
   "execution_count": 61,
   "id": "654b1996",
   "metadata": {},
   "outputs": [
    {
     "data": {
      "text/html": [
       "<div>\n",
       "<style scoped>\n",
       "    .dataframe tbody tr th:only-of-type {\n",
       "        vertical-align: middle;\n",
       "    }\n",
       "\n",
       "    .dataframe tbody tr th {\n",
       "        vertical-align: top;\n",
       "    }\n",
       "\n",
       "    .dataframe thead th {\n",
       "        text-align: right;\n",
       "    }\n",
       "</style>\n",
       "<table border=\"1\" class=\"dataframe\">\n",
       "  <thead>\n",
       "    <tr style=\"text-align: right;\">\n",
       "      <th></th>\n",
       "      <th>Gerçek_Değerler</th>\n",
       "      <th>Tahmin_Edilen_Değerler(3.derece)</th>\n",
       "      <th>Tahmin_Edilen_Değerler(4.derece)</th>\n",
       "    </tr>\n",
       "  </thead>\n",
       "  <tbody>\n",
       "    <tr>\n",
       "      <th>0</th>\n",
       "      <td>180</td>\n",
       "      <td>184.366289</td>\n",
       "      <td>172.485889</td>\n",
       "    </tr>\n",
       "    <tr>\n",
       "      <th>1</th>\n",
       "      <td>180</td>\n",
       "      <td>188.919073</td>\n",
       "      <td>179.019708</td>\n",
       "    </tr>\n",
       "    <tr>\n",
       "      <th>2</th>\n",
       "      <td>200</td>\n",
       "      <td>193.411774</td>\n",
       "      <td>185.403180</td>\n",
       "    </tr>\n",
       "    <tr>\n",
       "      <th>3</th>\n",
       "      <td>200</td>\n",
       "      <td>202.218290</td>\n",
       "      <td>197.727311</td>\n",
       "    </tr>\n",
       "    <tr>\n",
       "      <th>4</th>\n",
       "      <td>200</td>\n",
       "      <td>210.788573</td>\n",
       "      <td>209.474614</td>\n",
       "    </tr>\n",
       "    <tr>\n",
       "      <th>5</th>\n",
       "      <td>220</td>\n",
       "      <td>223.207037</td>\n",
       "      <td>226.049240</td>\n",
       "    </tr>\n",
       "    <tr>\n",
       "      <th>6</th>\n",
       "      <td>240</td>\n",
       "      <td>242.762035</td>\n",
       "      <td>251.015045</td>\n",
       "    </tr>\n",
       "    <tr>\n",
       "      <th>7</th>\n",
       "      <td>240</td>\n",
       "      <td>260.926000</td>\n",
       "      <td>272.866356</td>\n",
       "    </tr>\n",
       "    <tr>\n",
       "      <th>8</th>\n",
       "      <td>300</td>\n",
       "      <td>277.741647</td>\n",
       "      <td>291.836831</td>\n",
       "    </tr>\n",
       "    <tr>\n",
       "      <th>9</th>\n",
       "      <td>350</td>\n",
       "      <td>307.498850</td>\n",
       "      <td>322.030022</td>\n",
       "    </tr>\n",
       "    <tr>\n",
       "      <th>10</th>\n",
       "      <td>350</td>\n",
       "      <td>332.375367</td>\n",
       "      <td>343.304379</td>\n",
       "    </tr>\n",
       "    <tr>\n",
       "      <th>11</th>\n",
       "      <td>360</td>\n",
       "      <td>375.456223</td>\n",
       "      <td>367.539330</td>\n",
       "    </tr>\n",
       "    <tr>\n",
       "      <th>12</th>\n",
       "      <td>365</td>\n",
       "      <td>395.508004</td>\n",
       "      <td>366.803624</td>\n",
       "    </tr>\n",
       "    <tr>\n",
       "      <th>13</th>\n",
       "      <td>365</td>\n",
       "      <td>352.213078</td>\n",
       "      <td>364.356562</td>\n",
       "    </tr>\n",
       "    <tr>\n",
       "      <th>14</th>\n",
       "      <td>365</td>\n",
       "      <td>367.607761</td>\n",
       "      <td>365.087910</td>\n",
       "    </tr>\n",
       "  </tbody>\n",
       "</table>\n",
       "</div>"
      ],
      "text/plain": [
       "    Gerçek_Değerler  Tahmin_Edilen_Değerler(3.derece)  \\\n",
       "0               180                        184.366289   \n",
       "1               180                        188.919073   \n",
       "2               200                        193.411774   \n",
       "3               200                        202.218290   \n",
       "4               200                        210.788573   \n",
       "5               220                        223.207037   \n",
       "6               240                        242.762035   \n",
       "7               240                        260.926000   \n",
       "8               300                        277.741647   \n",
       "9               350                        307.498850   \n",
       "10              350                        332.375367   \n",
       "11              360                        375.456223   \n",
       "12              365                        395.508004   \n",
       "13              365                        352.213078   \n",
       "14              365                        367.607761   \n",
       "\n",
       "    Tahmin_Edilen_Değerler(4.derece)  \n",
       "0                         172.485889  \n",
       "1                         179.019708  \n",
       "2                         185.403180  \n",
       "3                         197.727311  \n",
       "4                         209.474614  \n",
       "5                         226.049240  \n",
       "6                         251.015045  \n",
       "7                         272.866356  \n",
       "8                         291.836831  \n",
       "9                         322.030022  \n",
       "10                        343.304379  \n",
       "11                        367.539330  \n",
       "12                        366.803624  \n",
       "13                        364.356562  \n",
       "14                        365.087910  "
      ]
     },
     "execution_count": 61,
     "metadata": {},
     "output_type": "execute_result"
    }
   ],
   "source": [
    "y_pr=pd.DataFrame(y_pr)\n",
    "tahmin_pr=pd.DataFrame(tahmin_pr)\n",
    "tahmin_pr_4=pd.DataFrame(tahmin_pr_4)\n",
    "sonuc_pr=pd.concat([y_pr,tahmin_pr,tahmin_pr_4],axis=1)\n",
    "sonuc_pr.columns=[\"Gerçek_Değerler\",\"Tahmin_Edilen_Değerler(3.derece)\",\"Tahmin_Edilen_Değerler(4.derece)\"]\n",
    "sonuc_pr"
   ]
  },
  {
   "cell_type": "code",
   "execution_count": 62,
   "id": "0cb9ef6a",
   "metadata": {},
   "outputs": [
    {
     "data": {
      "text/plain": [
       "<matplotlib.legend.Legend at 0x24d6b60bb20>"
      ]
     },
     "execution_count": 62,
     "metadata": {},
     "output_type": "execute_result"
    },
    {
     "data": {
      "image/png": "[encoded data removed]",
      "text/plain": [
       "<Figure size 432x288 with 1 Axes>"
      ]
     },
     "metadata": {
      "needs_background": "light"
     },
     "output_type": "display_data"
    }
   ],
   "source": [
    "mp.figure()\n",
    "\n",
    "mp.plot(data_pr.araba_fiyat,data_pr.araba_max_hiz,\"bo-\",label=\"Gerçek Değerler\")\n",
    "mp.plot(data_pr.araba_fiyat,sonuc_pr.iloc[:,1],\"r^--\",label=\"Tahmin Edilen Değerler(3.derece)\")\n",
    "mp.plot(data_pr.araba_fiyat,sonuc_pr.iloc[:,2],\"g*-\",label=\"Tahmin Edilen Değerler(4.derece)\")\n",
    "mp.xlabel(\"Araba Fiyatları(bin $)\")\n",
    "mp.ylabel(\"Araba Maksimum hızı (km/s)\")\n",
    "mp.grid(True)\n",
    "mp.legend()\n"
   ]
  },
  {
   "cell_type": "code",
   "execution_count": 63,
   "id": "e0591e10",
   "metadata": {},
   "outputs": [],
   "source": [
    "r2_slr=r2_score(y,tahmin)\n",
    "r2_mlr=r2_score(y_mlr,tahmin_mlr)\n",
    "r2_pr=r2_score(y_pr,tahmin_pr)\n",
    "r2_pr4=r2_score(y_pr,tahmin_pr_4)"
   ]
  },
  {
   "cell_type": "code",
   "execution_count": 64,
   "id": "11f4f1e8",
   "metadata": {},
   "outputs": [
    {
     "name": "stdout",
     "output_type": "stream",
     "text": [
      "Basit Doğrusal Regresyon R kare :0.9775283164949902\n",
      "Çoklu Doğrusal Regresyon R kare :0.9818393838730448\n",
      "Polinnom Regresyon(3. derece) R kare :0.9442498220803439\n",
      "Polinnom Regresyon(4. derece) R kare :0.9694743023211779\n"
     ]
    }
   ],
   "source": [
    "print(f\"Basit Doğrusal Regresyon R kare :{r2_slr}\")\n",
    "print(f\"Çoklu Doğrusal Regresyon R kare :{r2_mlr}\")\n",
    "print(f\"Polinnom Regresyon(3. derece) R kare :{r2_pr}\")\n",
    "print(f\"Polinnom Regresyon(4. derece) R kare :{r2_pr4}\")"
   ]
  },
  {
   "cell_type": "code",
   "execution_count": null,
   "id": "fb9a9cff",
   "metadata": {},
   "outputs": [],
   "source": []
  }
 ],
 "metadata": {
  "kernelspec": {
   "display_name": "Python 3 (ipykernel)",
   "language": "python",
   "name": "python3"
  },
  "language_info": {
   "codemirror_mode": {
    "name": "ipython",
    "version": 3
   },
   "file_extension": ".py",
   "mimetype": "text/x-python",
   "name": "python",
   "nbconvert_exporter": "python",
   "pygments_lexer": "ipython3",
   "version": "3.9.7"
  }
 },
 "nbformat": 4,
 "nbformat_minor": 5
}
